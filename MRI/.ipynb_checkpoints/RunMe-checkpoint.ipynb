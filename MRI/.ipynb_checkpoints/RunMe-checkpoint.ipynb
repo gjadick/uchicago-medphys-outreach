{
 "cells": [
  {
   "cell_type": "markdown",
   "metadata": {},
   "source": [
    "# How magnetic waves are used to construct non-invasive internal anatomic and physiologic images \n",
    "\n",
    "Mira Liu 9/09/2022\n",
    "\n",
    "\n",
    "## Let's start with how the way we hear sounds is similar to how we image with MRI:\n",
    "\n",
    "When plucking a string, one can hear a note. That note comes from oscillation at a particular frequency. Notice one note has one frequency, while two notes will have two frequencies, and three notes will have three frequencies. This can be shown with the guitar! \n",
    "\n",
    "Imagine how useful it would be if instead of seeing just the sum of those sinusoids, instead we could get the frequency, amplitude, and phase of the sinusoids that are making up that note!\n",
    "\n",
    "This is called a \"fourier transform\". This means that every single signal can be decomposed into the sum of sinusoids of varying frequencies. In the fourier domain, it is represented by a delta function at the frequency of the wave, with the amplitude and phase saved as the height of the delta function and the complex portion of the signal. "
   ]
  },
  {
   "cell_type": "code",
   "execution_count": 31,
   "metadata": {},
   "outputs": [],
   "source": [
    "# Load packages \n",
    "\n",
    "import numpy as np\n",
    "import matplotlib\n",
    "import matplotlib.pyplot as pl\n",
    "\n",
    "import random\n",
    "import pickle\n",
    "import seaborn as sns\n",
    "import csv\n",
    "import pandas as pd\n",
    "import sys \n",
    "import os\n",
    "import matplotlib.image as mpimg\n",
    "from mpl_toolkits.mplot3d import Axes3D\n",
    "import pydicom as dicom\n",
    "\n",
    "# Load Data\n",
    "    \n",
    "with open('data/Fig1_1dWaves.pickle','rb') as handle: \n",
    "    wave1,ft_sin1,wave2,ft_sin2,wavesum,ft_sinsum = pickle.load(handle)\n",
    "\n",
    "with open('data/Fig2_2dWaves.pickle','rb') as handle: \n",
    "    img,kspace = pickle.load(handle)\n",
    "    \n",
    "with open('data/Fig3_Rotating.pickle','rb') as handle: \n",
    "    image_rotating,kspace_rotating = pickle.load(handle)\n",
    "    \n",
    "with open('data/Fig4_RotatingIncreasing.pickle','rb') as handle: \n",
    "    image_rotateincrease,kspace_rotateincrease = pickle.load(handle)\n"
   ]
  },
  {
   "cell_type": "markdown",
   "metadata": {},
   "source": [
    "# Here's an example with a sound wave of 5Hz and a sound wave of 7Hz: \n",
    "\n",
    "Starting with one sinusoid, we can see the fourier transform of it in the fourier domain and how it shifts location as the frequency increases! \n",
    "\n",
    "Then, we can see how the combination of the two can be shown as the sum of two sinusoids in fourier space!"
   ]
  },
  {
   "cell_type": "code",
   "execution_count": 2,
   "metadata": {},
   "outputs": [
    {
     "name": "stdout",
     "output_type": "stream",
     "text": [
      "Using matplotlib backend: MacOSX\n"
     ]
    }
   ],
   "source": [
    "%matplotlib"
   ]
  },
  {
   "cell_type": "code",
   "execution_count": 6,
   "metadata": {},
   "outputs": [],
   "source": [
    "x = np.linspace(0, 1, 1000) #from 0 to 1, sampling rate of 1/1000\n",
    "ft_freq = np.linspace(-500,500,1000) #kmax = 1/2Deltax, Delta kx = 1/FOVx\n",
    "\n",
    "# Set up subplots\n",
    "fig, ((ax1, ax2),(ax3,ax4),(ax5,ax6)) = pl.subplots(3,2)\n",
    "\n",
    "# plot wave 1 with 5 cycles per second\n",
    "ax1.plot(x,wave1)\n",
    "ax1.set_title('5 Hz')\n",
    "ax2.plot(ft_freq,abs(ft_sin1))\n",
    "ax2.set_title('FT of 5 Hz')\n",
    "ax2.set_xlim([-10,10])\n",
    "\n",
    "# plot wave 2 with 7 cycles per second\n",
    "ax3.plot(x,wave2,color = 'red')\n",
    "ax3.set_title('7 Hz')\n",
    "ax4.plot(ft_freq,abs(ft_sin2),color = 'red')\n",
    "ax4.set_title('FT of 7 Hz')\n",
    "ax4.set_xlim([-10,10])\n",
    "\n",
    "# plot sum of the two\n",
    "ax5.plot(x,wave1+wave2,color = 'purple')\n",
    "ax5.set_title('5 Hz + 7 Hz')\n",
    "ax6.plot(ft_freq,abs(ft_sinsum),color = 'purple')\n",
    "ax6.set_title('FT of 7 Hz + 5 Hz')\n",
    "ax6.set_xlim([-10,10])\n",
    "\n",
    "\n",
    "fig.tight_layout()\n",
    "pl.show()\n"
   ]
  },
  {
   "cell_type": "markdown",
   "metadata": {},
   "source": [
    "# Now how can we see this in an image? \n",
    "\n",
    "Let's make those waves two dimensional! They're planar waves now, 2D! \n",
    "\n",
    "Of course, this means they will be two frequency space? \n",
    "\n",
    "That doesn't make any sense intuitively, does it... so let's take a look!\n",
    "\n",
    "Here you see that the 2D planar wave of a single frequency is again actually just two delta functions in a 2D plane! \n",
    "\n",
    "So what does their location in the 2D space mean? "
   ]
  },
  {
   "cell_type": "code",
   "execution_count": 5,
   "metadata": {},
   "outputs": [],
   "source": [
    "pl.close()    \n",
    "fig, ((ax1, ax2),(ax3,ax4)) = pl.subplots(2,2)\n",
    "\n",
    "x = np.linspace(0, 1, 100)\n",
    "ft_freq = np.linspace(-50,50,100)\n",
    "ax1.imshow(img,cmap = 'gray',extent = [0,1,0,1])\n",
    "ax1.set_title('2d planar wave')\n",
    "ax2.plot(x,img[51])\n",
    "ax2.set_title('Cross section of 2d planar wave')\n",
    "\n",
    "#so this has wavelength of 30\n",
    "# pixel size of 3\n",
    "\n",
    "ax3.imshow(np.abs(kspace),cmap = 'gray',extent = [-50,50,-50,50])\n",
    "ax3.set_title('Fourier Transform of 2d planar wave')\n",
    "ax4.plot(ft_freq,np.abs(kspace)[50])\n",
    "ax4.set_title('Cross section of Fourier Transform')\n",
    "fig.tight_layout()\n",
    "pl.show()\n",
    "\n",
    "\n",
    "#pl.savefig('data/Fig2.png',dpi = 100)\n",
    "\n",
    "#with open('data/Fig2_2dWaves.pickle','wb') as handle: \n",
    "    #pickle.dump([img,kspace],handle)\n"
   ]
  },
  {
   "cell_type": "markdown",
   "metadata": {},
   "source": [
    "# What does 2D wave mean?\n",
    "\n",
    "A 1D wave doesn't have any direction, it only has frequency. (this can be hard to understand, but if you think about it, even for a 1D wave to travel in a direction, that direction has to be a direction in at least 2D space!) \n",
    "\n",
    "But a 2D wave has both a frequency AND a direction in which it is going! This means that the direction of the frequency is also encoded in its location in the 2D frequency space.\n",
    "\n",
    "As we rotate the planar waves to have them propagating in different directions, we can see the delta functions also rotating in k-space!\n",
    "\n",
    "Below we can see that the location of the delta waves in the 2D space is the direction of the wave! One 2D wave (5Hz) is rotated about the center, and we can see that the delta waves in 2D space rotate with it."
   ]
  },
  {
   "cell_type": "code",
   "execution_count": 16,
   "metadata": {},
   "outputs": [],
   "source": [
    "pl.close() \n",
    "fig, (ax1, ax2) = pl.subplots(1,2)\n",
    "for j in range(np.shape(image_rotating)[2]):\n",
    "    ax1.imshow(image_rotating[:,:,j],cmap = 'gray',extent = [0,1,0,1])\n",
    "    ax1.set_title('Rotating\\nPlanar Wave')\n",
    "    ax2.imshow(np.abs(kspace_rotating[:,:,j]),cmap = 'gray',extent = [-50,50,-50,50])\n",
    "    ax2.set_title('Corresponding FT\\n\"k-space\"')\n",
    "\n",
    "    pl.pause(.5)\n",
    "    "
   ]
  },
  {
   "cell_type": "markdown",
   "metadata": {},
   "source": [
    "# What about the 2D frequency though? \n",
    "\n",
    "How is the frequency of the wave encoded then? \n",
    "\n",
    "Remember the 1D wave? The 5Hz wave was 5 away from the center, while the 7Hz wave was 7 away from the center. In 2D space then, a 2D 5Hz wave will be 5 from the 2D origin (0,0) while aa 7Hz wave will be 7 away from the 2D origin! \n",
    "\n",
    "This means that the frequency is from the distance of the delta function from the center, while the direction of the wave is the angle of the delta function from the center! \n",
    "\n",
    "Below is an example of a wave that is increasing in frequency while rotating. We can see that the fourier transform is showing the delta waves are moving away from the center and rotating as well. "
   ]
  },
  {
   "cell_type": "code",
   "execution_count": 29,
   "metadata": {},
   "outputs": [],
   "source": [
    "pl.close() \n",
    "fig, (ax1, ax2) = pl.subplots(1,2)\n",
    "for j in range(np.shape(image_rotating)[2]):\n",
    "    ax1.imshow(image_rotateincrease[:,:,j],cmap = 'gray',extent = [0,1,0,1])\n",
    "    ax1.set_title('Rotating & Increasing Hz\\nPlanar Wave')\n",
    "    ax2.imshow(np.abs(kspace_rotateincrease[:,:,j]),cmap = 'gray',extent = [-50,50,-50,50])\n",
    "    ax2.set_title('Corresponding FT\\n\"k-space\"')\n",
    "\n",
    "    pl.pause(.5)\n",
    "    "
   ]
  },
  {
   "cell_type": "markdown",
   "metadata": {},
   "source": [
    "# From this MRI can make images! \n",
    "\n",
    "We can now see how a 2D wave can rotate and change frequencies, how do we get images from that? We can add 2D waves! \n",
    "\n",
    "Just like the first image with the addition of two 1D waves, we can do exactly that with 2D waves. MRIs can use magnetic fields to measure the frequency, direction, and phase of the 2D wavepatterns of tissue. By imaging this we can get the individual contribution of each type of wave, and from this we can get images of biologic anatomy and physiology. \n",
    "\n",
    "Here is an example of an MRI brain scan. \n"
   ]
  },
  {
   "cell_type": "code",
   "execution_count": 39,
   "metadata": {},
   "outputs": [],
   "source": [
    "name = 'Coronal' #Sagittal, Axial\n",
    "\n",
    "fov_img = 256\n",
    "\n",
    "with open('data/'+name + '_superposition.pickle','rb') as handle1:\n",
    "    stack_image = pickle.load(handle1)\n",
    "with open('data/'+ name +'_superposition_masks.pickle','rb') as handle2:\n",
    "    stack_waves = pickle.load(handle2)\n",
    "with open('data/'+ name + '_superposition_kspace.pickle','rb') as handle3:\n",
    "    stack_kspace = pickle.load(handle3)\n",
    "with open('data/'+ name + '_FullImages.pickle','rb') as handle4:\n",
    "    img,kspace = pickle.load(handle4)\n",
    "    \n",
    "    \n",
    "fig, (ax1, ax2, ax3,ax4) = pl.subplots(1,4)\n",
    "ax4.imshow(img,cmap = 'gray')\n",
    "ax4.set_title('Final Image')\n",
    "for i in np.arange(0,np.shape(stack_image)[2]):\n",
    "    ax1.imshow(stack_kspace[:,:,i],vmin = 0,vmax = 8000,extent = [-.5, .5, -.5, .5],cmap = 'gray')\n",
    "    ax1.set_title('k-space')\n",
    "    ax2.imshow(stack_waves[:,:,i],cmap = 'gray')\n",
    "    ax2.set_title('planar\\nwaves')\n",
    "    ax3.imshow(stack_image[:,:,i],cmap = 'gray')\n",
    "    ax3.set_title('Image\\nForming')\n",
    "    pl.pause(.1)"
   ]
  },
  {
   "cell_type": "code",
   "execution_count": 42,
   "metadata": {},
   "outputs": [],
   "source": [
    "fig, (ax1, ax2) = pl.subplots(1,2)\n",
    "\n",
    "ax1.imshow(np.abs(kspace),vmin = 0,vmax = 8000,extent = [-.5, .5, -.5, .5],cmap = 'gray')\n",
    "ax1.set_title('k-space collected \\nwith MRI')\n",
    "ax2.imshow(img,cmap = 'gray')\n",
    "ax2.set_title('Image from MRI')\n",
    "pl.show()\n"
   ]
  },
  {
   "cell_type": "code",
   "execution_count": null,
   "metadata": {},
   "outputs": [],
   "source": []
  }
 ],
 "metadata": {
  "kernelspec": {
   "display_name": "Python 3",
   "language": "python",
   "name": "python3"
  },
  "language_info": {
   "codemirror_mode": {
    "name": "ipython",
    "version": 3
   },
   "file_extension": ".py",
   "mimetype": "text/x-python",
   "name": "python",
   "nbconvert_exporter": "python",
   "pygments_lexer": "ipython3",
   "version": "3.7.4"
  }
 },
 "nbformat": 4,
 "nbformat_minor": 2
}
