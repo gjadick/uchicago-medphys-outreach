{
 "cells": [
  {
   "cell_type": "markdown",
   "metadata": {},
   "source": [
    "# How magnetic waves are used to construct non-invasive internal anatomic and physiologic images \n",
    "\n",
    "\n",
    "## Let's start with how the way we hear sounds is similar to how we image with MRI:\n",
    "\n",
    "When plucking a string, one can hear a note. That note comes from oscillation at a particular frequency. Notice one note has one frequency, while two notes will have two frequencies, and three notes will have three frequencies. This can be shown with the guitar! \n",
    "\n",
    "Imagine how useful it would be if instead of seeing just the sum of those sinusoids, instead we could get the frequency, amplitude, and phase of the sinusoids that are making up that note!\n",
    "\n",
    "This is called a \"fourier transform\". This means that every single signal can be decomposed into the sum of sinusoids of varying frequencies. In the fourier domain, it is represented by a delta function at the frequency of the wave, with the amplitude and phase saved as the height of the delta function and the complex portion of the signal. "
   ]
  },
  {
   "cell_type": "code",
   "execution_count": 100,
   "metadata": {},
   "outputs": [],
   "source": [
    "import numpy as np\n",
    "import matplotlib\n",
    "import matplotlib.pyplot as pl\n",
    "import pickle\n",
    "import pydicom as dicom\n",
    "import matplotlib.image as mpimg"
   ]
  },
  {
   "cell_type": "code",
   "execution_count": 4,
   "metadata": {},
   "outputs": [
    {
     "name": "stdout",
     "output_type": "stream",
     "text": [
      "Using matplotlib backend: MacOSX\n"
     ]
    }
   ],
   "source": [
    "%matplotlib"
   ]
  },
  {
   "cell_type": "markdown",
   "metadata": {},
   "source": [
    "# Here's an example with a sound wave of 5Hz and a sound wave of 7Hz: \n",
    "\n",
    "Starting with one sinusoid, we can see the fourier transform of it in the fourier domain and how it shifts location as the frequency increases! \n",
    "\n",
    "Then, we can see how the combination of the two can be shown as the sum of two sinusoids in fourier space!"
   ]
  },
  {
   "cell_type": "code",
   "execution_count": 98,
   "metadata": {},
   "outputs": [],
   "source": [
    "x = np.linspace(0, 1, 1000) #from 0 to 1, sampling rate of 1/1000\n",
    "wave1 = np.sin(2*np.pi*5*x) #frequency of 5\n",
    "ft_sin1 = np.fft.fft(wave1)\n",
    "ft_sin1 = np.fft.fftshift(ft_sin1)\n",
    "ft_freq = np.linspace(-500,500,1000) #kmax = 1/2Deltax, Delta kx = 1/FOVx\n",
    "\n",
    "# Set up subplots\n",
    "fig, ((ax1, ax2),(ax3,ax4),(ax5,ax6)) = pl.subplots(3,2)\n",
    "\n",
    "# plot wave 1 with 5 cycles per second\n",
    "ax1.plot(x,wave1)\n",
    "ax1.set_title('5 Hz')\n",
    "ax2.plot(ft_freq,abs(ft_sin))\n",
    "ax2.set_title('FT of 5 Hz')\n",
    "ax2.set_xlim([-10,10])\n",
    "\n",
    "# plot wave 2 with 7 cycles per second\n",
    "wave2 = np.sin(2*np.pi*7*x)\n",
    "ft_sin2 = np.fft.fft(wave2)\n",
    "ft_sin2 = np.fft.fftshift(ft_sin2)\n",
    "ax3.plot(x,wave2,color = 'red')\n",
    "ax3.set_title('7 Hz')\n",
    "ax4.plot(ft_freq,abs(ft_sin2),color = 'red')\n",
    "ax4.set_title('FT of 7 Hz')\n",
    "ax4.set_xlim([-10,10])\n",
    "\n",
    "# plot sum of the two\n",
    "wavesum = wave1+wave2\n",
    "ft_sinsum = np.fft.fft(wavesum)\n",
    "ft_sinsum = np.fft.fftshift(ft_sinsum)\n",
    "ax5.plot(x,wave1+wave2,color = 'purple')\n",
    "ax5.set_title('5 Hz + 7 Hz')\n",
    "ax6.plot(ft_freq,abs(ft_sinsum),color = 'purple')\n",
    "ax6.set_title('FT of 7 Hz + 5 Hz')\n",
    "ax6.set_xlim([-10,10])\n",
    "\n",
    "\n",
    "fig.tight_layout()\n",
    "pl.savefig('data/Fig1.png',dpi = 100)\n",
    "\n",
    "with open('data/Fig1_1dWaves.pickle','wb') as handle: \n",
    "    pickle.dump([wave1,ft_sin1,wave2,ft_sin2,wavesum,ft_sinsum],handle)"
   ]
  },
  {
   "cell_type": "code",
   "execution_count": 104,
   "metadata": {},
   "outputs": [],
   "source": [
    "img = mpimg.imread('data/Fig1.png')\n",
    "pl.imshow(img)\n",
    "pl.show()"
   ]
  },
  {
   "cell_type": "markdown",
   "metadata": {},
   "source": [
    "# Now how can we see this in an image? \n",
    "\n",
    "Let's make those waves two dimensional! They're planar waves now, 2D! \n",
    "\n",
    "Of course, this means they will be two frequency space? \n",
    "\n",
    "That doesn't make any sense intuitively, does it... so let's take a look!\n",
    "\n",
    "Here you see that the 2D planar wave of a single frequency is again actually just two delta functions in a 2D plane! \n",
    "\n",
    "So what does their location in the 2D space mean? "
   ]
  },
  {
   "cell_type": "code",
   "execution_count": 105,
   "metadata": {},
   "outputs": [],
   "source": [
    "fig, ((ax1, ax2),(ax3,ax4)) = pl.subplots(2,2)\n",
    "\n",
    "x = np.arange(0, 101, 1)\n",
    "X, Y = np.meshgrid(x, x)\n",
    "img = np.sin(2 * np.pi * X /20) #20 is the wavelength (how many pixels in one lil wave)\n",
    "ax1.imshow(img,cmap = 'gray')\n",
    "ax1.set_title('2d planar wave')\n",
    "ax2.plot(img[51])\n",
    "ax2.set_title('Cross section of 2d planar wave')\n",
    "\n",
    "#so this has wavelength of 30\n",
    "# pixel size of 3\n",
    "\n",
    "ft = np.fft.fft2(img)\n",
    "kspace = np.fft.fftshift(ft) #moves zero frequency component to center\n",
    "ax3.imshow(np.abs(kspace),cmap = 'gray')\n",
    "ax3.set_title('Fourier Transform of 2d planar wave')\n",
    "ax4.plot(np.abs(kspace)[50])\n",
    "ax4.set_title('Cross section of Fourier Transform')\n",
    "fig.tight_layout()\n",
    "pl.show()\n",
    "\n",
    "\n",
    "pl.savefig('data/Fig2.png',dpi = 100)\n",
    "\n"
   ]
  },
  {
   "cell_type": "markdown",
   "metadata": {},
   "source": [
    "# 2D frequencies?\n",
    "\n",
    "Here we can see that the location of the delta waves in the 2D space is the direction of the wave! \n",
    "\n",
    "So as 1D wave doesn't have any direction, it only has frequency. (this can be hard to understand, but if you think about it, even for a 1D wave to travel in a direction, that direction has to be a direction in at least 2D space!) \n",
    "\n",
    "But a 2D wave has both a frequency AND a direction in which it is going! This means that the direction of the frequency is also encoded in its location in the 2D frequency space! \n",
    "\n",
    "As we rotate the planar waves to have them propagating in different directions, we can see the delta functions also rotating in k-space!"
   ]
  },
  {
   "cell_type": "code",
   "execution_count": 107,
   "metadata": {},
   "outputs": [],
   "source": [
    "fig, (ax1, ax2) = pl.subplots(1,2)\n",
    "angles = np.linspace(0,np.pi,15)\n",
    "ax1.set_title('Planar Wave')\n",
    "ax2.set_title('FT of Planar Wave')\n",
    "for tilt in angles:\n",
    "    #phi being the tilt angle\n",
    "    img = np.sin(2*np.pi*(X*np.cos(tilt) + Y*np.sin(tilt)) / 20)\n",
    "    ax1.imshow(img,cmap = 'gray')\n",
    "    ft = np.fft.fft2(img)\n",
    "    kspace = np.fft.fftshift(ft) #moves zero frequency component to center\n",
    "    ax2.imshow(np.abs(kspace),cmap = 'gray')\n",
    "\n",
    "    pl.pause(.5)\n",
    "    \n",
    "    "
   ]
  },
  {
   "cell_type": "code",
   "execution_count": 14,
   "metadata": {},
   "outputs": [],
   "source": [
    "fig, (ax1, ax2, ax3) = pl.subplots(1,3)\n",
    "phases = np.linspace(0,np.pi,10)\n",
    "ax1.set_title('Phase shifting\\nPlanar Wave')\n",
    "ax2.set_title('FT of Planar Wave')\n",
    "ax3.set_title('imaginary component\\nof iFT')\n",
    "for phi in phases:\n",
    "    #phi being the tilt angle\n",
    "    img = np.sin(2*np.pi*(X*np.cos(np.pi/4) + Y*np.sin(np.pi/4)) / 20 + phi)\n",
    "    ax1.imshow(img,cmap = 'gray')\n",
    "    ft = np.fft.fft2(img)\n",
    "    kspace = np.fft.fftshift(ft) #moves zero frequency component to center\n",
    "    ax2.imshow(np.abs(kspace),cmap = 'gray')\n",
    "    ax3.imshow(np.imag(kspace),cmap = 'gray')\n",
    "    \n",
    "    \n",
    "    pl.colorbar\n",
    "    pl.pause(.5)"
   ]
  },
  {
   "cell_type": "code",
   "execution_count": 33,
   "metadata": {},
   "outputs": [],
   "source": [
    "name = 'Coronal' #Sagittal, Axial\n",
    "ds = dicom.dcmread('data/' + name + '.dcm')\n",
    "img = ds.pixel_array\n",
    "\n",
    "fov_img = 256\n",
    "\n",
    "with open('data/'+name + '_superposition.pickle','rb') as handle1:\n",
    "    stack_image = pickle.load(handle1)\n",
    "with open('data/'+ name +'_superposition_masks.pickle','rb') as handle2:\n",
    "    stack_waves = pickle.load(handle2)\n",
    "with open('data/'+ name + '_superposition_kspace.pickle','rb') as handle3:\n",
    "    stack_kspace = pickle.load(handle3)\n",
    "    \n",
    "fig, (ax1, ax2, ax3,ax4) = pl.subplots(1,4)\n",
    "ax4.imshow(img,cmap = 'gray')\n",
    "ax4.set_title('Final Image')\n",
    "for i in np.arange(0,np.shape(stack_image)[2]):\n",
    "    ax1.imshow(stack_kspace[:,:,i],vmin = 0,vmax = 6000,extent = [-.5, .5, -.5, .5],cmap = 'gray')\n",
    "    ax1.set_title('k-space')\n",
    "    ax2.imshow(stack_waves[:,:,i],cmap = 'gray')\n",
    "    ax2.set_title('planar\\nwaves')\n",
    "    ax3.imshow(stack_image[:,:,i],cmap = 'gray')\n",
    "    ax3.set_title('Image\\nForming')\n",
    "    pl.pause(.1)"
   ]
  },
  {
   "cell_type": "code",
   "execution_count": null,
   "metadata": {},
   "outputs": [],
   "source": []
  }
 ],
 "metadata": {
  "kernelspec": {
   "display_name": "Python 3",
   "language": "python",
   "name": "python3"
  },
  "language_info": {
   "codemirror_mode": {
    "name": "ipython",
    "version": 3
   },
   "file_extension": ".py",
   "mimetype": "text/x-python",
   "name": "python",
   "nbconvert_exporter": "python",
   "pygments_lexer": "ipython3",
   "version": "3.7.4"
  }
 },
 "nbformat": 4,
 "nbformat_minor": 2
}
