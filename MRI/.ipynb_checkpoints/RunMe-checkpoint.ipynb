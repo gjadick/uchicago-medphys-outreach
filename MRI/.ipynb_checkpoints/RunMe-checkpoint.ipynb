{
 "cells": [
  {
   "cell_type": "markdown",
   "metadata": {},
   "source": [
    "# How magnetic waves are used to construct non-invasive internal anatomic and physiologic images \n",
    "\n",
    "\n",
    "## Let's start with how the way we hear sounds is similar to how we image with MRI:\n",
    "\n",
    "When plucking a string, one can hear a note. That note comes from oscillation at a particular frequency. Notice one note has one frequency, while two notes will have two frequencies, and three notes will have three frequencies. This can be shown with the guitar! \n",
    "\n",
    "Imagine how useful it would be if instead of seeing just the sum of those sinusoids, instead we could get the frequency, amplitude, and phase of the sinusoids that are making up that note!\n",
    "\n",
    "This is called a \"fourier transform\". This means that every single signal can be decomposed into the sum of sinusoids of varying frequencies. In the fourier domain, it is represented by a delta function at the frequency of the wave, with the amplitude and phase saved as the height of the delta function and the complex portion of the signal. "
   ]
  },
  {
   "cell_type": "code",
   "execution_count": 1,
   "metadata": {},
   "outputs": [
    {
     "ename": "ModuleNotFoundError",
     "evalue": "No module named 'pydicom'",
     "output_type": "error",
     "traceback": [
      "\u001b[0;31m---------------------------------------------------------------------------\u001b[0m",
      "\u001b[0;31mModuleNotFoundError\u001b[0m                       Traceback (most recent call last)",
      "\u001b[0;32m<ipython-input-1-a5e464864959>\u001b[0m in \u001b[0;36m<module>\u001b[0;34m\u001b[0m\n\u001b[1;32m      3\u001b[0m \u001b[0;32mimport\u001b[0m \u001b[0mmatplotlib\u001b[0m\u001b[0;34m.\u001b[0m\u001b[0mpyplot\u001b[0m \u001b[0;32mas\u001b[0m \u001b[0mpl\u001b[0m\u001b[0;34m\u001b[0m\u001b[0;34m\u001b[0m\u001b[0m\n\u001b[1;32m      4\u001b[0m \u001b[0;32mimport\u001b[0m \u001b[0mpickle\u001b[0m\u001b[0;34m\u001b[0m\u001b[0;34m\u001b[0m\u001b[0m\n\u001b[0;32m----> 5\u001b[0;31m \u001b[0;32mimport\u001b[0m \u001b[0mpydicom\u001b[0m \u001b[0;32mas\u001b[0m \u001b[0mdicom\u001b[0m\u001b[0;34m\u001b[0m\u001b[0;34m\u001b[0m\u001b[0m\n\u001b[0m\u001b[1;32m      6\u001b[0m \u001b[0;32mimport\u001b[0m \u001b[0mmatplotlib\u001b[0m\u001b[0;34m.\u001b[0m\u001b[0mimage\u001b[0m \u001b[0;32mas\u001b[0m \u001b[0mmpimg\u001b[0m\u001b[0;34m\u001b[0m\u001b[0;34m\u001b[0m\u001b[0m\n\u001b[1;32m      7\u001b[0m \u001b[0;34m\u001b[0m\u001b[0m\n",
      "\u001b[0;31mModuleNotFoundError\u001b[0m: No module named 'pydicom'"
     ]
    }
   ],
   "source": [
    "import numpy as np\n",
    "import matplotlib\n",
    "import matplotlib.pyplot as pl\n",
    "import pickle\n",
    "import pydicom as dicom\n",
    "import matplotlib.image as mpimg\n",
    "\n",
    "%matplotlib"
   ]
  },
  {
   "cell_type": "markdown",
   "metadata": {},
   "source": [
    "# Here's an example with a sound wave of 5Hz and a sound wave of 7Hz: \n",
    "\n",
    "Starting with one sinusoid, we can see the fourier transform of it in the fourier domain and how it shifts location as the frequency increases! \n",
    "\n",
    "Then, we can see how the combination of the two can be shown as the sum of two sinusoids in fourier space!"
   ]
  },
  {
   "cell_type": "code",
   "execution_count": 6,
   "metadata": {},
   "outputs": [],
   "source": [
    "\n",
    "img = mpimg.imread('data/Fig1.png')\n",
    "pl.imshow(img)\n",
    "pl.show()"
   ]
  },
  {
   "cell_type": "markdown",
   "metadata": {},
   "source": [
    "# Now how can we see this in an image? \n",
    "\n",
    "Let's make those waves two dimensional! They're planar waves now, 2D! \n",
    "\n",
    "Of course, this means they will be two frequency space? \n",
    "\n",
    "That doesn't make any sense intuitively, does it... so let's take a look!\n",
    "\n",
    "Here you see that the 2D planar wave of a single frequency is again actually just two delta functions in a 2D plane! \n",
    "\n",
    "So what does their location in the 2D space mean? "
   ]
  },
  {
   "cell_type": "code",
   "execution_count": 105,
   "metadata": {},
   "outputs": [],
   "source": [
    "img = mpimg.imread('data/Fig2.png')\n",
    "pl.imshow(img)\n",
    "pl.show()"
   ]
  },
  {
   "cell_type": "markdown",
   "metadata": {},
   "source": [
    "# What does 2D wave mean?\n",
    "\n",
    "A 1D wave doesn't have any direction, it only has frequency. (this can be hard to understand, but if you think about it, even for a 1D wave to travel in a direction, that direction has to be a direction in at least 2D space!) \n",
    "\n",
    "But a 2D wave has both a frequency AND a direction in which it is going! This means that the direction of the frequency is also encoded in its location in the 2D frequency space.\n",
    "\n",
    "As we rotate the planar waves to have them propagating in different directions, we can see the delta functions also rotating in k-space!\n",
    "\n",
    "Below we can see that the location of the delta waves in the 2D space is the direction of the wave! One 2D wave (5Hz) is rotated about the center, and we can see that the delta waves in 2D space rotate with it."
   ]
  },
  {
   "cell_type": "code",
   "execution_count": 119,
   "metadata": {},
   "outputs": [],
   "source": [
    "with open('data/Fig3_Rotating.pickle','wb') as handle: \n",
    "    [image_rotating,kspace_rotating] = pickle.load(handle)"
   ]
  },
  {
   "cell_type": "markdown",
   "metadata": {},
   "source": [
    "# What about the 2D frequency though? \n",
    "\n",
    "How is the frequency of the wave encoded then? \n",
    "\n",
    "Remember the 1D wave? The 5Hz wave was 5 away from the center, while the 7Hz wave was 7 away from the center. In 2D space then, a 2D 5Hz wave will be 5 from the 2D origin (0,0) while aa 7Hz wave will be 7 away from the 2D origin! \n",
    "\n",
    "This means that the frequency is from the distance of the delta function from the center, while the direction of the wave is the angle of the delta function from the center! \n",
    "\n",
    "Below is an example of a wave that is increasing in frequency while rotating. We can see that the fourier transform is showing the delta waves are moving away from the center and rotating as well. "
   ]
  },
  {
   "cell_type": "code",
   "execution_count": 120,
   "metadata": {},
   "outputs": [],
   "source": [
    "fig, (ax1, ax2) = pl.subplots(1,2)\n",
    "angles = np.linspace(0,np.pi,20)\n",
    "wavelengths = np.linspace(20,3,20)\n",
    "ax1.set_title('Planar Wave')\n",
    "ax2.set_title('FT of Planar Wave')\n",
    "\n",
    "kspace_rotateincrease = np.zeros((len(img[0]),len(img[0]),20))\n",
    "image_rotateincrease =np.zeros((len(img[0]),len(img[0]),20))\n",
    "count = 0\n",
    "for j in range(len(angles)):\n",
    "    #phi being the tilt angle\n",
    "    img = np.sin(2*np.pi*(X*np.cos(angles[j]) + Y*np.sin(angles[j])) / wavelengths[j])\n",
    "    ax1.imshow(img,cmap = 'gray')\n",
    "    ft = np.fft.fft2(img)\n",
    "    kspace = np.fft.fftshift(ft) #moves zero frequency component to center\n",
    "    ax2.imshow(np.abs(kspace),cmap = 'gray')\n",
    "\n",
    "    image_rotateincrease[:,:,count]\n",
    "    kspace_rotateincrease[:,:,count]\n",
    "    count = count+1\n",
    "    pl.pause(.5)\n",
    "    \n",
    "\n",
    "with open('data/Fig3_Rotating.pickle','wb') as handle: \n",
    "    pickle.dump([image_rotateincrease,kspace_rotateincrease],handle)"
   ]
  },
  {
   "cell_type": "code",
   "execution_count": 33,
   "metadata": {},
   "outputs": [],
   "source": [
    "name = 'Coronal' #Sagittal, Axial\n",
    "ds = dicom.dcmread('data/' + name + '.dcm')\n",
    "img = ds.pixel_array\n",
    "\n",
    "fov_img = 256\n",
    "\n",
    "with open('data/'+name + '_superposition.pickle','rb') as handle1:\n",
    "    stack_image = pickle.load(handle1)\n",
    "with open('data/'+ name +'_superposition_masks.pickle','rb') as handle2:\n",
    "    stack_waves = pickle.load(handle2)\n",
    "with open('data/'+ name + '_superposition_kspace.pickle','rb') as handle3:\n",
    "    stack_kspace = pickle.load(handle3)\n",
    "    \n",
    "fig, (ax1, ax2, ax3,ax4) = pl.subplots(1,4)\n",
    "ax4.imshow(img,cmap = 'gray')\n",
    "ax4.set_title('Final Image')\n",
    "for i in np.arange(0,np.shape(stack_image)[2]):\n",
    "    ax1.imshow(stack_kspace[:,:,i],vmin = 0,vmax = 6000,extent = [-.5, .5, -.5, .5],cmap = 'gray')\n",
    "    ax1.set_title('k-space')\n",
    "    ax2.imshow(stack_waves[:,:,i],cmap = 'gray')\n",
    "    ax2.set_title('planar\\nwaves')\n",
    "    ax3.imshow(stack_image[:,:,i],cmap = 'gray')\n",
    "    ax3.set_title('Image\\nForming')\n",
    "    pl.pause(.1)"
   ]
  },
  {
   "cell_type": "code",
   "execution_count": null,
   "metadata": {},
   "outputs": [],
   "source": []
  }
 ],
 "metadata": {
  "kernelspec": {
   "display_name": "Python 3",
   "language": "python",
   "name": "python3"
  },
  "language_info": {
   "codemirror_mode": {
    "name": "ipython",
    "version": 3
   },
   "file_extension": ".py",
   "mimetype": "text/x-python",
   "name": "python",
   "nbconvert_exporter": "python",
   "pygments_lexer": "ipython3",
   "version": "3.7.4"
  }
 },
 "nbformat": 4,
 "nbformat_minor": 2
}
