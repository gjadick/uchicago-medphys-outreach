{
 "cells": [
  {
   "cell_type": "code",
   "execution_count": 3,
   "metadata": {},
   "outputs": [
    {
     "name": "stdout",
     "output_type": "stream",
     "text": [
      "Using matplotlib backend: MacOSX\n"
     ]
    }
   ],
   "source": [
    "import numpy as np\n",
    "import matplotlib\n",
    "import matplotlib.pyplot as pl\n",
    "import csv\n",
    "import scipy.optimize as op\n",
    "import scipy.stats\n",
    "from scipy.optimize import curve_fit\n",
    "import scipy.io\n",
    "from scipy.stats import rice\n",
    "\n",
    "import random\n",
    "import pickle\n",
    "import seaborn as sns\n",
    "\n",
    "import numpy as np\n",
    "from scipy.stats import ttest_ind, ttest_ind_from_stats, wilcoxon,ttest_rel, pearsonr\n",
    "from scipy.special import stdtr\n",
    "import csv\n",
    "import pandas as pd\n",
    "\n",
    "import sys \n",
    "import os\n",
    "#sys.path.append(os.path.abspath(\"/Users/neuroimaging/Desktop/MR-code/Python_Code\"))\n",
    "\n",
    "import matplotlib.image as mpimg\n",
    "\n",
    "\n",
    "from tkinter import *\n",
    "from tkinter import ttk\n",
    "\n",
    "from mpl_toolkits.mplot3d import Axes3D\n",
    "\n",
    "import pydicom as dicom\n",
    "\n",
    "%matplotlib"
   ]
  },
  {
   "cell_type": "code",
   "execution_count": 4,
   "metadata": {},
   "outputs": [
    {
     "data": {
      "text/plain": [
       "(array([50, 50]), array([45, 55]))"
      ]
     },
     "execution_count": 4,
     "metadata": {},
     "output_type": "execute_result"
    }
   ],
   "source": [
    "fig, (ax1, ax2) = pl.subplots(1,2)\n",
    "\n",
    "x = np.arange(0, 101, 1)\n",
    "X, Y = np.meshgrid(x, x)\n",
    "img = np.sin(2 * np.pi * X /20) #20 is the wavelength (how many pixels in one lil wave)\n",
    "ax1.imshow(img,cmap = 'gray')\n",
    "ax1.set_title('2d planar wave')\n",
    "ax2.plot(img[51])\n",
    "ax2.set_title('Cross section of 2d planar wave')\n",
    "\n",
    "pl.pause(1)\n",
    "#so this has wavelength of 30\n",
    "# pixel size of 3\n",
    "\n",
    "ft = np.fft.fft2(img)\n",
    "kspace = np.fft.fftshift(ft) #moves zero frequency component to center\n",
    "ax1.imshow(np.abs(kspace),cmap = 'gray')\n",
    "ax1.set_title('Fourier Transform of 2d planar wave')\n",
    "ax2.plot(np.abs(kspace)[50])\n",
    "ax2.set_title('Cross section of Fourier Transform')\n",
    "pl.show()\n",
    "\n",
    "arr = np.abs(kspace)\n",
    "np.amax(np.abs(kspace))\n",
    "np.where(arr==np.amax(arr))"
   ]
  },
  {
   "cell_type": "code",
   "execution_count": 13,
   "metadata": {},
   "outputs": [],
   "source": [
    "fig, (ax1, ax2) = pl.subplots(1,2)\n",
    "angles = np.linspace(0,np.pi,10)\n",
    "ax1.set_title('Planar Wave')\n",
    "ax2.set_title('FT of Planar Wave')\n",
    "for tilt in angles:\n",
    "    #phi being the tilt angle\n",
    "    img = np.sin(2*np.pi*(X*np.cos(tilt) + Y*np.sin(tilt)) / 20)\n",
    "    ax1.imshow(img,cmap = 'gray')\n",
    "    ft = np.fft.fft2(img)\n",
    "    kspace = np.fft.fftshift(ft) #moves zero frequency component to center\n",
    "    ax2.imshow(np.abs(kspace),cmap = 'gray')\n",
    "\n",
    "    pl.pause(.5)\n",
    "    \n",
    "    "
   ]
  },
  {
   "cell_type": "code",
   "execution_count": 10,
   "metadata": {},
   "outputs": [],
   "source": [
    "fig, (ax1, ax2, ax3) = pl.subplots(1,3)\n",
    "phases = np.linspace(0,np.pi,10)\n",
    "ax1.set_title('Phase shifting\\nPlanar Wave')\n",
    "ax2.set_title('FT of Planar Wave')\n",
    "ax3.set_title('imaginary component\\nof iFT')\n",
    "for phi in phases:\n",
    "    #phi being the tilt angle\n",
    "    img = np.sin(2*np.pi*(X*np.cos(np.pi/4) + Y*np.sin(np.pi/4)) / 20 + phi)\n",
    "    ax1.imshow(img,cmap = 'gray')\n",
    "    ft = np.fft.fft2(img)\n",
    "    kspace = np.fft.fftshift(ft) #moves zero frequency component to center\n",
    "    ax2.imshow(np.abs(kspace),cmap = 'gray')\n",
    "    ax3.imshow(np.imag(kspace),cmap = 'gray')\n",
    "    \n",
    "    \n",
    "    pl.colorbar\n",
    "    pl.pause(.5)"
   ]
  },
  {
   "cell_type": "code",
   "execution_count": 3,
   "metadata": {},
   "outputs": [],
   "source": [
    "#img=mpimg.imread('doggy.jpeg')\n",
    "ds = dicom.dcmread('data/Coronal.dcm')\n",
    "img = ds.pixel_array\n",
    "\n",
    "fov_img = 256\n",
    "\n",
    "with open('data/Coronal_superposition.pickle','rb') as handle1:\n",
    "    stack_image = pickle.load(handle1)\n",
    "with open('data/Coronal_superposition_masks.pickle','rb') as handle2:\n",
    "    stack_waves = pickle.load(handle2)\n",
    "with open('data/Coronal_superposition_kspace.pickle','rb') as handle3:\n",
    "    stack_kspace = pickle.load(handle3)\n",
    "    \n",
    "fig, (ax1, ax2, ax3,ax4) = pl.subplots(1,4)\n",
    "ax4.imshow(img,cmap = 'gray')\n",
    "ax4.set_title('Final Image')\n",
    "for i in np.arange(0,np.shape(stack_image)[2],4):\n",
    "    ax1.imshow(stack_kspace[:,:,i],vmin = 0,vmax = 6000,extent = [-.5, .5, -.5, .5],cmap = 'gray')\n",
    "    ax1.set_title('k-space')\n",
    "    ax2.imshow(stack_waves[:,:,i],cmap = 'gray')\n",
    "    ax2.set_title('planar\\nwaves')\n",
    "    ax3.imshow(stack_image[:,:,i],cmap = 'gray')\n",
    "    ax3.set_title('Image\\nForming')\n",
    "    pl.pause(.01)"
   ]
  }
 ],
 "metadata": {
  "kernelspec": {
   "display_name": "Python 3",
   "language": "python",
   "name": "python3"
  },
  "language_info": {
   "codemirror_mode": {
    "name": "ipython",
    "version": 3
   },
   "file_extension": ".py",
   "mimetype": "text/x-python",
   "name": "python",
   "nbconvert_exporter": "python",
   "pygments_lexer": "ipython3",
   "version": "3.7.4"
  }
 },
 "nbformat": 4,
 "nbformat_minor": 2
}
