{
 "cells": [
  {
   "cell_type": "code",
   "execution_count": null,
   "metadata": {},
   "outputs": [
    {
     "ename": "",
     "evalue": "",
     "output_type": "error",
     "traceback": [
      "\u001b[1;31mThe Kernel crashed while executing code in the current cell or a previous cell. \n",
      "\u001b[1;31mPlease review the code in the cell(s) to identify a possible cause of the failure. \n",
      "\u001b[1;31mClick <a href='https://aka.ms/vscodeJupyterKernelCrash'>here</a> for more info. \n",
      "\u001b[1;31mView Jupyter <a href='command:jupyter.viewOutput'>log</a> for further details."
     ]
    }
   ],
   "source": [
    "# Load packages \n",
    "from PrepFunctions import * \n",
    "\n",
    "%matplotlib tk\n",
    "# use tk for pop-out plot\n",
    "\n",
    "\n",
    "name = 'Coronal' #Sagittal, Axial\n",
    "\n",
    "fov_img = 256\n",
    "\n",
    "with open('data/'+name + '_superposition.pickle','rb') as handle1:\n",
    "    stack_image = pickle.load(handle1)\n",
    "with open('data/'+ name +'_superposition_masks.pickle','rb') as handle2:\n",
    "    stack_waves = pickle.load(handle2)\n",
    "with open('data/'+ name + '_superposition_kspace.pickle','rb') as handle3:\n",
    "    stack_kspace = pickle.load(handle3)\n",
    "with open('data/'+ name + '_FullImages.pickle','rb') as handle4:\n",
    "    img,kspace = pickle.load(handle4)\n",
    "    \n",
    "    \n",
    "fig, (ax1, ax2, ax3) = pl.subplots(1,3,figsize = (12,4), dpi=150)\n",
    "#ax4.imshow(img,cmap = 'gray')\n",
    "#ax4.set_title('Final Image')\n",
    "for axi in [ax1, ax2, ax3]:\n",
    "    axi.set_xticks([])\n",
    "    axi.set_yticks([])\n",
    "    axi.set_xlabel('$x$')\n",
    "    axi.set_ylabel('$y$')\n",
    "for i in np.arange(0,np.shape(stack_image)[2]):\n",
    "    ax1.imshow(stack_kspace[:,:,i],vmin = 0,vmax = 100000,extent = [-.5, .5, -.5, .5],cmap = 'gray')\n",
    "    ax1.set_title('frequency space')\n",
    "    ax1.set_xlabel('$x$-freq')\n",
    "    ax1.set_ylabel('$y$-freq')\n",
    "    ax2.imshow(stack_waves[:,:,i],cmap = 'gray')\n",
    "    ax2.set_title('Individual 2D \\nwaves')\n",
    "    ax3.imshow(stack_image[:,:,i],cmap = 'gray')\n",
    "    ax3.set_title('Image\\nforming')\n",
    "    pl.pause(.4)"
   ]
  },
  {
   "cell_type": "code",
   "execution_count": null,
   "metadata": {},
   "outputs": [],
   "source": []
  }
 ],
 "metadata": {
  "kernelspec": {
   "display_name": ".venv",
   "language": "python",
   "name": "python3"
  },
  "language_info": {
   "codemirror_mode": {
    "name": "ipython",
    "version": 3
   },
   "file_extension": ".py",
   "mimetype": "text/x-python",
   "name": "python",
   "nbconvert_exporter": "python",
   "pygments_lexer": "ipython3",
   "version": "3.11.9"
  }
 },
 "nbformat": 4,
 "nbformat_minor": 2
}
