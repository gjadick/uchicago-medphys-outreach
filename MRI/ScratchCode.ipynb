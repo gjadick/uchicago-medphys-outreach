{
 "cells": [
  {
   "cell_type": "markdown",
   "metadata": {},
   "source": [
    "# This is a notebook to demonstrate k-space to image space conversion with MRI\n",
    "\n",
    "\n",
    "It includes the code used to produce the images in the main notebook.\n",
    "\n",
    "https://thepythoncodingbook.com/2021/08/30/2d-fourier-transform-in-python-and-fourier-synthesis-of-images/\n",
    "\n",
    "# be able to..\n",
    "1) transform between k space and not k-space  $\\checkmark$\n",
    "\n",
    "2) select region of kspace to transform and see resulting image $\\checkmark$\n",
    "\n",
    "2) watch as image is constructed from added points in kspace (like CT reconstruction) with the plane waves overlaid (and path/points are shown in k space as it's added on $\\checkmark$\n",
    "\n",
    "4) observe the path (epi or radial etc) and how image is formed $\\checkmark$\n",
    "\n",
    "5) How only a little more than half of ks-space is needed $\\checkmark$\n",
    "\n",
    "5) phase and frequency encoding? or is that too advanced?"
   ]
  },
  {
   "cell_type": "code",
   "execution_count": 1,
   "metadata": {},
   "outputs": [],
   "source": [
    "import numpy as np\n",
    "import matplotlib\n",
    "import matplotlib.pyplot as pl\n",
    "import csv\n",
    "import scipy.optimize as op\n",
    "import scipy.stats\n",
    "from scipy.optimize import curve_fit\n",
    "import scipy.io\n",
    "from scipy.stats import rice\n",
    "\n",
    "import random\n",
    "import pickle\n",
    "import seaborn as sns\n",
    "\n",
    "import numpy as np\n",
    "from scipy.stats import ttest_ind, ttest_ind_from_stats, wilcoxon,ttest_rel, pearsonr\n",
    "from scipy.special import stdtr\n",
    "import csv\n",
    "import pandas as pd\n",
    "\n",
    "import sys \n",
    "import os\n",
    "#sys.path.append(os.path.abspath(\"/Users/neuroimaging/Desktop/MR-code/Python_Code\"))\n",
    "\n",
    "import matplotlib.image as mpimg\n",
    "\n",
    "\n",
    "from tkinter import *\n",
    "from tkinter import ttk\n",
    "\n",
    "from mpl_toolkits.mplot3d import Axes3D\n",
    "\n",
    "import pydicom as dicom\n"
   ]
  },
  {
   "cell_type": "code",
   "execution_count": 2,
   "metadata": {},
   "outputs": [
    {
     "name": "stdout",
     "output_type": "stream",
     "text": [
      "Using matplotlib backend: MacOSX\n"
     ]
    }
   ],
   "source": [
    "%matplotlib"
   ]
  },
  {
   "cell_type": "markdown",
   "metadata": {},
   "source": [
    "# Show Image\n",
    "\n",
    "$FOV_{img} = 1361 x 1361$ \\\n",
    "$\\Delta x = 1$ "
   ]
  },
  {
   "cell_type": "code",
   "execution_count": 22,
   "metadata": {},
   "outputs": [
    {
     "name": "stdout",
     "output_type": "stream",
     "text": [
      "(256, 256)\n"
     ]
    }
   ],
   "source": [
    "#img=mpimg.imread('doggy.jpeg')\n",
    "ds = dicom.dcmread('data/Coronal.dcm')\n",
    "img = ds.pixel_array\n",
    "#img = #img[530:-530,:-1,0]\n",
    "print(np.shape(img))\n",
    "\n",
    "#img = img[1:,33:-33]\n",
    "pl.imshow(img,cmap = 'gray')\n",
    "pl.show()\n",
    "\n",
    "fov_img = 256"
   ]
  },
  {
   "cell_type": "markdown",
   "metadata": {},
   "source": [
    "# Get k-space through FFT of Image\n",
    "$FOV_{kspace} = \\frac{1}{\\Delta x} = 1$\\\n",
    "$\\Delta k_x = \\frac{1}{FOV_{img}} = \\frac{1}{1361} $ "
   ]
  },
  {
   "cell_type": "code",
   "execution_count": 23,
   "metadata": {},
   "outputs": [
    {
     "name": "stdout",
     "output_type": "stream",
     "text": [
      "min kx: -0.5 \n",
      "max kx: 0.49609375 \n",
      "Delta kx =  0.00390625\n"
     ]
    }
   ],
   "source": [
    "ft = np.fft.ifftshift(img)\n",
    "ft = np.fft.fft2(ft)\n",
    "kspace = np.fft.fftshift(ft) #moves zero frequency component to center\n",
    "kx_ax = np.fft.fftfreq(np.shape(img)[0],1) #goes from -.5 to +.5 frequency\n",
    "print('min kx:',min(kx_ax),'\\nmax kx:', max(kx_ax),'\\nDelta kx = ',1/fov_img)\n",
    "pl.imshow(np.abs(kspace),vmin = 0,vmax = 4000,extent = [-.5, .5, -.5, .5],cmap = 'gray')\n",
    "pl.colorbar()\n",
    "pl.show()"
   ]
  },
  {
   "cell_type": "markdown",
   "metadata": {},
   "source": [
    "# Get image back with iFFT of k-space"
   ]
  },
  {
   "cell_type": "code",
   "execution_count": 24,
   "metadata": {},
   "outputs": [],
   "source": [
    "ift = np.fft.fftshift(kspace)\n",
    "ift = np.fft.ifft2(ift)\n",
    "iimg = np.fft.ifftshift(ift)\n",
    "pl.imshow(np.abs(iimg),cmap = 'gray')\n",
    "pl.show()\n"
   ]
  },
  {
   "cell_type": "markdown",
   "metadata": {},
   "source": [
    "# Now get ROI and crop k-space\n",
    "give it a center, and x and y dimensions. will make a rectangle"
   ]
  },
  {
   "cell_type": "code",
   "execution_count": 25,
   "metadata": {},
   "outputs": [],
   "source": [
    "def DrawRect(kspace,fov_img,center,xdim,ydim): #takes it in idx, not frequency values\n",
    "    kspace_cropped = kspace\n",
    "    minx = center[0] - xdim\n",
    "    maxx = center[0] + xdim\n",
    "    miny = center[1] - ydim\n",
    "    maxy = center[1] + ydim\n",
    "    for j in range(len(kspace)):\n",
    "        for k in range(len(kspace)):\n",
    "            if j < minx or j > maxx or k < miny or k > maxy : \n",
    "                #print(kspace_cropped[k,j])\n",
    "                kspace_cropped[k,j] = 0 #k is y, j is x. \n",
    "                #print(kspace_cropped[k,j])\n",
    "            #else:\n",
    "                #print('not')\n",
    "    return kspace_cropped"
   ]
  },
  {
   "cell_type": "code",
   "execution_count": 26,
   "metadata": {},
   "outputs": [],
   "source": [
    "fig, (ax1, ax2) = pl.subplots(1,2)\n",
    "\n",
    "rect_kspace = DrawRect(kspace,fov_img,[round(fov_img/2),round(fov_img/2)],50,50)\n",
    "ax1.imshow(np.abs(rect_kspace),vmin = 0,vmax = 4000,extent = [-.5, .5, -.5, .5],cmap = 'gray')\n",
    "\n",
    "ift = np.fft.fftshift(rect_kspace)\n",
    "ift = np.fft.ifft2(ift)\n",
    "cropped_iimg = np.fft.ifftshift(ift)\n",
    "ax2.imshow(np.abs(cropped_iimg),cmap = 'gray')\n",
    "pl.show()\n"
   ]
  },
  {
   "cell_type": "markdown",
   "metadata": {},
   "source": [
    "# Now watch live reconstruction of the image from k-space\n",
    "\n",
    "# do as spiral.... \n"
   ]
  },
  {
   "cell_type": "code",
   "execution_count": 27,
   "metadata": {},
   "outputs": [],
   "source": [
    "# assumed odd and equal nummber of nx and ny\n",
    "# makes list of indices to do a spiral\n",
    "# see 8/20/22 notes\n",
    "def Spiral(nx):\n",
    "    SpiralArray_x = [] \n",
    "    SpiralArray_y = []\n",
    "    center = int(nx/2)\n",
    "    # add center as first \n",
    "    x,y = center,center\n",
    "    SpiralArray_x.append(x)\n",
    "    SpiralArray_y.append(y)\n",
    "    for j in np.arange(1,nx,2): #from 0 to the number of nx there is in steps of 2\n",
    "        # do x = x+1 and then y = y-1 a certain number of times\n",
    "        for k in range(j):\n",
    "            x = x+1\n",
    "            SpiralArray_x.append(x)\n",
    "            SpiralArray_y.append(y)\n",
    "        for m in range(j):\n",
    "            y = y-1\n",
    "            SpiralArray_x.append(x)\n",
    "            SpiralArray_y.append(y)\n",
    "        for p in range(j+1):\n",
    "            x = x-1\n",
    "            SpiralArray_x.append(x)\n",
    "            SpiralArray_y.append(y)\n",
    "        for q in range(j+1):\n",
    "            y = y+1\n",
    "            SpiralArray_x.append(x)\n",
    "            SpiralArray_y.append(y)\n",
    "    for v in range(nx-1):\n",
    "        x = x+1\n",
    "        SpiralArray_x.append(x)\n",
    "        SpiralArray_y.append(y)\n",
    "        \n",
    "    SpiralArray = np.vstack((SpiralArray_x,SpiralArray_y))\n",
    "    \n",
    "    return SpiralArray\n",
    "\n",
    "#this will avoid doubling with mirroring (see 8/29/22)\n",
    "def cropped_spiral(nx):\n",
    "    SpiralArray_x = [] \n",
    "    SpiralArray_y = []\n",
    "    center = int(nx/2)\n",
    "    # add center as first \n",
    "    x,y = center,center\n",
    "    SpiralArray_x.append(x)\n",
    "    SpiralArray_y.append(y)\n",
    "    for j in range(int(nx/2)):\n",
    "        y = center + j\n",
    "        x = center\n",
    "        SpiralArray_x.append(x)\n",
    "        SpiralArray_y.append(y)\n",
    "        for k in range(j):\n",
    "            x = x+1 \n",
    "            SpiralArray_x.append(x)\n",
    "            SpiralArray_y.append(y)\n",
    "        for m in range(j*2):\n",
    "            y = y - 1\n",
    "            SpiralArray_x.append(x)\n",
    "            SpiralArray_y.append(y)\n",
    "        for p in range(j-1):\n",
    "            x = x-1\n",
    "            SpiralArray_x.append(x)\n",
    "            SpiralArray_y.append(y)\n",
    "    \n",
    "    SpiralArray = np.vstack((SpiralArray_x,SpiralArray_y))\n",
    "    \n",
    "    return SpiralArray\n"
   ]
  },
  {
   "cell_type": "code",
   "execution_count": 28,
   "metadata": {},
   "outputs": [],
   "source": [
    "cropped_kspace = kspace[round(fov_img/2)-60:round(fov_img/2)+61,round(fov_img/2)-60:round(fov_img/2)+61]\n"
   ]
  },
  {
   "cell_type": "code",
   "execution_count": 29,
   "metadata": {},
   "outputs": [],
   "source": [
    "cropped_kspace = kspace[round(fov_img/2)-60:round(fov_img/2)+61,round(fov_img/2)-60:round(fov_img/2)+61]\n",
    "\n",
    "#fig, (ax1,ax2,ax3) = pl.subplots(1,3)\n",
    "SpiralAcquisition = cropped_spiral(len(cropped_kspace)) #get spiral acuisition points\n",
    "center = int(len(cropped_kspace)/2)\n",
    "\n",
    "spiraling_k = np.zeros(np.shape(cropped_kspace))\n",
    "superimpose_img = np.zeros(np.shape(cropped_kspace))\n",
    "\n",
    "#ax3.imshow(img,cmap='gray')\n",
    "#ax3.set_title('Final image')\n",
    "\n",
    "stacked_iffts = np.zeros((len(cropped_kspace[0]),len(cropped_kspace[1]),int(len(SpiralAcquisition[0])/10)+1))\n",
    "stacked_kspace = np.zeros((len(cropped_kspace[0]),len(cropped_kspace[1]),int(len(SpiralAcquisition[0])/10)+1))\n",
    "ten_counter = np.arange(0,len(SpiralAcquisition[0]),10)\n",
    "counter = 0\n",
    "for j in np.arange(0,len(SpiralAcquisition[0])): #for each point in this spiral, i.e. all of k-space\n",
    "    # get mask that gets that point and it's corresponding buddy \n",
    "    mask = np.zeros(np.shape(cropped_kspace))\n",
    "    \n",
    "    kx = SpiralAcquisition[0][j]\n",
    "    ky = SpiralAcquisition[1][j]\n",
    "    mask[kx,ky]  = 1\n",
    "    # now get it reflected across the origin as well \n",
    "    dkx = center - kx\n",
    "    dky = center - ky\n",
    "    \n",
    "    mirror_kx = center + dkx \n",
    "    mirror_ky = center + dky\n",
    "    mask[mirror_kx, mirror_ky] = 1\n",
    "        \n",
    "    # now get those points in k-space\n",
    "    kspace_point = cropped_kspace*mask \n",
    "    \n",
    "    #show k-space growing\n",
    "    spiraling_k = spiraling_k + kspace_point # and add it to show the growing k-space\n",
    "    #ax1.imshow(np.abs(spiraling_k),vmin = 0,vmax = 6000,extent = [-.5, .5, -.5, .5],cmap = 'gray')\n",
    "    #ax1.set_title('k-space used so far')\n",
    "    \n",
    "    \n",
    "    # now get inverse ft of that point only every 10\n",
    "    if j in ten_counter:\n",
    "        stacked_kspace[:,:,counter] = np.abs(spiraling_k)\n",
    "        ift = np.fft.fftshift(spiraling_k)\n",
    "        ift = np.fft.ifft2(ift)\n",
    "        iimg = np.fft.ifftshift(ift) # want to save this! \n",
    "        stacked_iffts[:,:,counter] = np.abs(iimg)\n",
    "        counter = counter + 1\n",
    "    \n",
    "    # now begin to sum up these individual contributions\n",
    "    #superimpose_img = superimpose_img + np.real(iimg)\n",
    "    #ax2.imshow(np.abs(iimg),cmap = 'gray')\n",
    "    #ax2.set_title('Image being produced')\n",
    "    \n",
    "    \n",
    "    #pl.pause(.001)\n",
    "    \n",
    "    \n",
    "    \n",
    "    \n",
    "    \n",
    "with open('Coronal_superposition.pickle','wb') as handle: \n",
    "    pickle.dump(stacked_iffts,handle)\n",
    "with open('Coronal_superposition_kspace.pickle','wb') as handle: \n",
    "    pickle.dump(stacked_kspace,handle)\n",
    "\n",
    "    \n",
    "    "
   ]
  },
  {
   "cell_type": "code",
   "execution_count": 30,
   "metadata": {},
   "outputs": [],
   "source": [
    "cropped_kspace = kspace[round(fov_img/2)-60:round(fov_img/2)+61,round(fov_img/2)-60:round(fov_img/2)+61]\n",
    "\n",
    "#fig, (ax1,ax2,ax3) = pl.subplots(1,3)\n",
    "SpiralAcquisition = cropped_spiral(len(cropped_kspace)) #get spiral acuisition points\n",
    "center = int(len(cropped_kspace)/2)\n",
    "\n",
    "spiraling_k = np.zeros(np.shape(cropped_kspace))\n",
    "superimpose_img = np.zeros(np.shape(cropped_kspace))\n",
    "\n",
    "#ax3.imshow(img,cmap='gray')\n",
    "#ax3.set_title('Final image')\n",
    "\n",
    "stacked_maskiffts = np.zeros((len(cropped_kspace[0]),len(cropped_kspace[1]),int(len(SpiralAcquisition[0])/10)+1))\n",
    "\n",
    "counter = 0\n",
    "for j in np.arange(0,len(SpiralAcquisition[0]),10): #for each point in this spiral, i.e. all of k-space\n",
    "    # get mask that gets that point and it's corresponding buddy \n",
    "    mask = np.zeros(np.shape(cropped_kspace))\n",
    "    \n",
    "    kx = SpiralAcquisition[0][j]\n",
    "    ky = SpiralAcquisition[1][j]\n",
    "    mask[kx,ky]  = 1\n",
    "    # now get it reflected across the origin as well \n",
    "    dkx = center - kx\n",
    "    dky = center - ky\n",
    "    \n",
    "    mirror_kx = center + dkx \n",
    "    mirror_ky = center + dky\n",
    "    mask[mirror_kx, mirror_ky] = 1\n",
    "        \n",
    "    # now get those points in k-space\n",
    "    kspace_point = cropped_kspace*mask \n",
    "\n",
    "    \n",
    "    # now get inverse ft of that point\n",
    "    ift = np.fft.fftshift(kspace_point)\n",
    "    ift = np.fft.ifft2(ift)\n",
    "    iimg = np.fft.ifftshift(ift) # want to save this! \n",
    "    stacked_maskiffts[:,:,counter] = np.abs(iimg)\n",
    "    counter = counter + 1\n",
    "    \n",
    "    \n",
    "    \n",
    "    #pl.pause(.001)\n",
    "    \n",
    "    \n",
    "    \n",
    "    \n",
    "    \n",
    "with open('Coronal_superposition_masks.pickle','wb') as handle: \n",
    "    pickle.dump(stacked_maskiffts,handle)\n",
    "\n",
    "    \n",
    "    "
   ]
  },
  {
   "cell_type": "markdown",
   "metadata": {},
   "source": [
    "# a bit too computationally expensive, so gonna do it once (hopefully) and save it in a pickle file... "
   ]
  },
  {
   "cell_type": "code",
   "execution_count": 4,
   "metadata": {},
   "outputs": [
    {
     "name": "stdout",
     "output_type": "stream",
     "text": [
      "(256, 256)\n"
     ]
    }
   ],
   "source": [
    "#img=mpimg.imread('doggy.jpeg')\n",
    "ds = dicom.dcmread('data/Coronal.dcm')\n",
    "img = ds.pixel_array\n",
    "\n",
    "fov_img = 256\n",
    "\n",
    "with open('data/Coronal_superposition.pickle','rb') as handle1:\n",
    "    stack_image = pickle.load(handle1)\n",
    "with open('data/Coronal_superposition_masks.pickle','rb') as handle2:\n",
    "    stack_waves = pickle.load(handle2)\n",
    "with open('data/Coronal_superposition_kspace.pickle','rb') as handle3:\n",
    "    stack_kspace = pickle.load(handle3)\n",
    "    \n",
    "fig, (ax1, ax2, ax3,ax4) = pl.subplots(1,4)\n",
    "ax4.imshow(img,cmap = 'gray')\n",
    "ax4.set_title('Final Image')\n",
    "for i in np.arange(0,np.shape(stack_image)[2],4):\n",
    "    ax1.imshow(stack_kspace[:,:,i],vmin = 0,vmax = 6000,extent = [-.5, .5, -.5, .5],cmap = 'gray')\n",
    "    ax1.set_title('k-space')\n",
    "    ax2.imshow(stack_waves[:,:,i],cmap = 'gray')\n",
    "    ax2.set_title('planar\\nwaves')\n",
    "    ax3.imshow(stack_image[:,:,i],cmap = 'gray')\n",
    "    ax3.set_title('Image\\nForming')\n",
    "    pl.pause(.01)"
   ]
  },
  {
   "cell_type": "code",
   "execution_count": null,
   "metadata": {},
   "outputs": [],
   "source": []
  }
 ],
 "metadata": {
  "kernelspec": {
   "display_name": "Python 3",
   "language": "python",
   "name": "python3"
  },
  "language_info": {
   "codemirror_mode": {
    "name": "ipython",
    "version": 3
   },
   "file_extension": ".py",
   "mimetype": "text/x-python",
   "name": "python",
   "nbconvert_exporter": "python",
   "pygments_lexer": "ipython3",
   "version": "3.7.4"
  }
 },
 "nbformat": 4,
 "nbformat_minor": 2
}
